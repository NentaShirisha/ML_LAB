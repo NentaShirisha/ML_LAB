{
 "cells": [
  {
   "cell_type": "code",
   "execution_count": 1,
   "id": "2cfa0bc5-3a4b-431e-ad37-b01c7c008d10",
   "metadata": {},
   "outputs": [],
   "source": [
    "#1\n",
    "from sklearn.datasets import fetch_20newsgroups\n",
    "from sklearn.feature_extraction.text import CountVectorizer,TfidfVectorizer\n",
    "from sklearn.naive_bayes import BernoulliNB, MultinomialNB\n",
    "from sklearn.metrics import accuracy_score,confusion_matrix,classification_report\n",
    "import numpy as np"
   ]
  },
  {
   "cell_type": "code",
   "execution_count": 2,
   "id": "5d342a5a-fbf1-47d0-9c0b-1bad891d7868",
   "metadata": {},
   "outputs": [
    {
     "name": "stdout",
     "output_type": "stream",
     "text": [
      "Train: (1657, 3)\n",
      "Test: (1102, 3)\n"
     ]
    }
   ],
   "source": [
    "#2\n",
    "import pandas as pd\n",
    "df_train=pd.read_csv(\"newsgroups_train.csv\")\n",
    "df_test=pd.read_csv(\"newsgroups_test.csv\")\n",
    "print(\"Train:\",df_train.shape)\n",
    "print(\"Test:\",df_test.shape)"
   ]
  },
  {
   "cell_type": "code",
   "execution_count": 3,
   "id": "21b27b05-4b43-4149-8454-9ae3bd9f3956",
   "metadata": {},
   "outputs": [],
   "source": [
    "#3&4\n",
    "#Done in above\n",
    "#2 Question\n",
    "#new_train=fetch_20newsgroup(subset='train',categories=cats)\n",
    "#new_test=fetch_20newsgroup(subset='test',categories=cats)\n",
    "#if they dont give the dataset dircetly"
   ]
  },
  {
   "cell_type": "code",
   "execution_count": 4,
   "id": "c98897dc-4430-452b-bf22-3e4f6c28c4ac",
   "metadata": {},
   "outputs": [
    {
     "name": "stdout",
     "output_type": "stream",
     "text": [
      "Target Labels: ['sci.space' 'comp.graphics' 'alt.atheism']\n"
     ]
    }
   ],
   "source": [
    "#5\n",
    "print(\"Target Labels:\",df_train['category'].unique())"
   ]
  },
  {
   "cell_type": "code",
   "execution_count": 5,
   "id": "d0e962d1-47b9-4a6c-86a8-5144b43ef115",
   "metadata": {},
   "outputs": [],
   "source": [
    "#6\n",
    "#already done in 5th Question"
   ]
  },
  {
   "cell_type": "code",
   "execution_count": 6,
   "id": "4402b92e-625f-4547-b659-e140c96acb87",
   "metadata": {},
   "outputs": [
    {
     "name": "stdout",
     "output_type": "stream",
     "text": [
      "Selected Categories: ['alt.atheism', 'comp.graphics', 'sci.space']\n"
     ]
    }
   ],
   "source": [
    "#7\n",
    "selected_categories=['alt.atheism','comp.graphics','sci.space']\n",
    "print(\"Selected Categories:\",selected_categories)"
   ]
  },
  {
   "cell_type": "code",
   "execution_count": 11,
   "id": "ef363b5f-5be6-4cfa-a9d6-f5a4415e9566",
   "metadata": {},
   "outputs": [],
   "source": [
    "#6 to 8 th done in above\n",
    "\n",
    "#except 3 catgories->filter\n",
    "#df_test_filter=df_test[df_test['category'].isin(selected_categories)]\n",
    "#print(df_test_filter.shape)\n",
    "#print(df_test_filter.head())"
   ]
  },
  {
   "cell_type": "code",
   "execution_count": 12,
   "id": "496ee2ab-beee-41dd-8284-8479ce7b7361",
   "metadata": {},
   "outputs": [
    {
     "name": "stdout",
     "output_type": "stream",
     "text": [
      "New_Training Set: [2 1 0]\n"
     ]
    }
   ],
   "source": [
    "#9\n",
    "print(\"New_Training Set:\",df_train['target'].unique())"
   ]
  },
  {
   "cell_type": "code",
   "execution_count": 13,
   "id": "48382a03-1556-4204-a09f-bd2b0c697058",
   "metadata": {},
   "outputs": [
    {
     "name": "stdout",
     "output_type": "stream",
     "text": [
      "5th training article: From: henry@zoo.toronto.edu (Henry Spencer)\n",
      "Subject: Re: TRUE \"GLOBE\", Who makes it?\n",
      "Organization: U of Toronto Zoology\n",
      "Lines: 12\n",
      "\n",
      "In article <bill.047m@xpresso.UUCP> bill@xpresso.UUCP (Bill Vance) writes:\n",
      ">It has been known for quite a while that the earth is actually more pear\n",
      ">shaped than globular/spherical.  Does anyone make a \"globe\" that is accurate\n",
      ">as to actual shape, landmass configuration/Long/Lat lines etc.?\n",
      "\n",
      "I don't think you're going to be able to see the differences from a sphere\n",
      "unless they are greatly exaggerated.  Even the equatorial bulge is only\n",
      "about 1 part in 300 -- you'd never notice a 1mm error in a 30cm globe --\n",
      "and the other deviations from spherical shape are much smaller.\n",
      "-- \n",
      "SVR4 resembles a high-speed collision   | Henry Spencer @ U of Toronto Zoology\n",
      "between SVR3 and SunOS.    - Dick Dunn  |  henry@zoo.toronto.edu  utzoo!henry\n",
      "\n"
     ]
    }
   ],
   "source": [
    "#10\n",
    "print(\"5th training article:\",df_train.iloc[4]['text'])"
   ]
  },
  {
   "cell_type": "code",
   "execution_count": 14,
   "id": "04f6a675-b04a-4434-bc08-aad29e859720",
   "metadata": {},
   "outputs": [
    {
     "name": "stdout",
     "output_type": "stream",
     "text": [
      "Train Data Shape: (1657, 3) Test Data Shape: (1102, 3)\n"
     ]
    }
   ],
   "source": [
    "#11\n",
    "print(\"Train Data Shape:\",df_train.shape,\"Test Data Shape:\",df_test.shape)"
   ]
  },
  {
   "cell_type": "code",
   "execution_count": 15,
   "id": "40e7e131-dc7b-43ae-9b95-793af7aa60d7",
   "metadata": {},
   "outputs": [],
   "source": [
    "#12\n",
    "#not applicable for csv files\n",
    "#if its not csv\n",
    "#selected_categories=['alt.atheism','comp.graphics','sci.space']\n",
    "#newsgroup_train=fetch_20newsgroups(subset='train',categories=selected_categories)\n",
    "#newsgroup_test=fetch_20newsgroups(subset='test',categories=selected_categories)\n",
    "#print(\"training data size:\",newsgroup_train.data)\n",
    "#print(\"testing data size:\",newsgroup_test.data)"
   ]
  },
  {
   "cell_type": "code",
   "execution_count": 16,
   "id": "56aa1f5d-5d36-4f37-9bf2-d5433d57d0e5",
   "metadata": {},
   "outputs": [],
   "source": [
    "#13\n",
    "vectorizer=CountVectorizer()\n",
    "X_train_counts=vectorizer.fit_transform(df_train['text'])\n",
    "X_test_counts=vectorizer.transform(df_test['text'])"
   ]
  },
  {
   "cell_type": "code",
   "execution_count": 17,
   "id": "7812c0ce-af2d-4fb3-8de3-491f7daecb93",
   "metadata": {},
   "outputs": [
    {
     "data": {
      "text/html": [
       "<style>#sk-container-id-1 {color: black;}#sk-container-id-1 pre{padding: 0;}#sk-container-id-1 div.sk-toggleable {background-color: white;}#sk-container-id-1 label.sk-toggleable__label {cursor: pointer;display: block;width: 100%;margin-bottom: 0;padding: 0.3em;box-sizing: border-box;text-align: center;}#sk-container-id-1 label.sk-toggleable__label-arrow:before {content: \"▸\";float: left;margin-right: 0.25em;color: #696969;}#sk-container-id-1 label.sk-toggleable__label-arrow:hover:before {color: black;}#sk-container-id-1 div.sk-estimator:hover label.sk-toggleable__label-arrow:before {color: black;}#sk-container-id-1 div.sk-toggleable__content {max-height: 0;max-width: 0;overflow: hidden;text-align: left;background-color: #f0f8ff;}#sk-container-id-1 div.sk-toggleable__content pre {margin: 0.2em;color: black;border-radius: 0.25em;background-color: #f0f8ff;}#sk-container-id-1 input.sk-toggleable__control:checked~div.sk-toggleable__content {max-height: 200px;max-width: 100%;overflow: auto;}#sk-container-id-1 input.sk-toggleable__control:checked~label.sk-toggleable__label-arrow:before {content: \"▾\";}#sk-container-id-1 div.sk-estimator input.sk-toggleable__control:checked~label.sk-toggleable__label {background-color: #d4ebff;}#sk-container-id-1 div.sk-label input.sk-toggleable__control:checked~label.sk-toggleable__label {background-color: #d4ebff;}#sk-container-id-1 input.sk-hidden--visually {border: 0;clip: rect(1px 1px 1px 1px);clip: rect(1px, 1px, 1px, 1px);height: 1px;margin: -1px;overflow: hidden;padding: 0;position: absolute;width: 1px;}#sk-container-id-1 div.sk-estimator {font-family: monospace;background-color: #f0f8ff;border: 1px dotted black;border-radius: 0.25em;box-sizing: border-box;margin-bottom: 0.5em;}#sk-container-id-1 div.sk-estimator:hover {background-color: #d4ebff;}#sk-container-id-1 div.sk-parallel-item::after {content: \"\";width: 100%;border-bottom: 1px solid gray;flex-grow: 1;}#sk-container-id-1 div.sk-label:hover label.sk-toggleable__label {background-color: #d4ebff;}#sk-container-id-1 div.sk-serial::before {content: \"\";position: absolute;border-left: 1px solid gray;box-sizing: border-box;top: 0;bottom: 0;left: 50%;z-index: 0;}#sk-container-id-1 div.sk-serial {display: flex;flex-direction: column;align-items: center;background-color: white;padding-right: 0.2em;padding-left: 0.2em;position: relative;}#sk-container-id-1 div.sk-item {position: relative;z-index: 1;}#sk-container-id-1 div.sk-parallel {display: flex;align-items: stretch;justify-content: center;background-color: white;position: relative;}#sk-container-id-1 div.sk-item::before, #sk-container-id-1 div.sk-parallel-item::before {content: \"\";position: absolute;border-left: 1px solid gray;box-sizing: border-box;top: 0;bottom: 0;left: 50%;z-index: -1;}#sk-container-id-1 div.sk-parallel-item {display: flex;flex-direction: column;z-index: 1;position: relative;background-color: white;}#sk-container-id-1 div.sk-parallel-item:first-child::after {align-self: flex-end;width: 50%;}#sk-container-id-1 div.sk-parallel-item:last-child::after {align-self: flex-start;width: 50%;}#sk-container-id-1 div.sk-parallel-item:only-child::after {width: 0;}#sk-container-id-1 div.sk-dashed-wrapped {border: 1px dashed gray;margin: 0 0.4em 0.5em 0.4em;box-sizing: border-box;padding-bottom: 0.4em;background-color: white;}#sk-container-id-1 div.sk-label label {font-family: monospace;font-weight: bold;display: inline-block;line-height: 1.2em;}#sk-container-id-1 div.sk-label-container {text-align: center;}#sk-container-id-1 div.sk-container {/* jupyter's `normalize.less` sets `[hidden] { display: none; }` but bootstrap.min.css set `[hidden] { display: none !important; }` so we also need the `!important` here to be able to override the default hidden behavior on the sphinx rendered scikit-learn.org. See: https://github.com/scikit-learn/scikit-learn/issues/21755 */display: inline-block !important;position: relative;}#sk-container-id-1 div.sk-text-repr-fallback {display: none;}</style><div id=\"sk-container-id-1\" class=\"sk-top-container\"><div class=\"sk-text-repr-fallback\"><pre>BernoulliNB()</pre><b>In a Jupyter environment, please rerun this cell to show the HTML representation or trust the notebook. <br />On GitHub, the HTML representation is unable to render, please try loading this page with nbviewer.org.</b></div><div class=\"sk-container\" hidden><div class=\"sk-item\"><div class=\"sk-estimator sk-toggleable\"><input class=\"sk-toggleable__control sk-hidden--visually\" id=\"sk-estimator-id-1\" type=\"checkbox\" checked><label for=\"sk-estimator-id-1\" class=\"sk-toggleable__label sk-toggleable__label-arrow\">BernoulliNB</label><div class=\"sk-toggleable__content\"><pre>BernoulliNB()</pre></div></div></div></div></div>"
      ],
      "text/plain": [
       "BernoulliNB()"
      ]
     },
     "execution_count": 17,
     "metadata": {},
     "output_type": "execute_result"
    }
   ],
   "source": [
    "#14\n",
    "br=BernoulliNB()\n",
    "br.fit(X_train_counts,df_train['target'])"
   ]
  },
  {
   "cell_type": "code",
   "execution_count": 18,
   "id": "f03ed1ce-86b0-49e4-8d9d-a0327c00348e",
   "metadata": {},
   "outputs": [
    {
     "name": "stdout",
     "output_type": "stream",
     "text": [
      "(1657, 29663) (1102, 29663)\n"
     ]
    }
   ],
   "source": [
    "#15\n",
    "vectorizer=CountVectorizer()\n",
    "X_train_counts=vectorizer.fit_transform(df_train['text'])\n",
    "X_test_counts=vectorizer.transform(df_test['text'])\n",
    "print(X_train_counts.shape,X_test_counts.shape)"
   ]
  },
  {
   "cell_type": "code",
   "execution_count": 19,
   "id": "ff67dab0-d9d5-47fe-ae2c-b0034e049134",
   "metadata": {},
   "outputs": [],
   "source": [
    "#16\n",
    "prediction=br.predict(X_test_counts)"
   ]
  },
  {
   "cell_type": "code",
   "execution_count": 20,
   "id": "fac1e459-c49d-4187-9bd0-61872e3c03db",
   "metadata": {},
   "outputs": [
    {
     "name": "stdout",
     "output_type": "stream",
     "text": [
      "Bernoulli Accuracy_score: 0.852994555353902\n"
     ]
    }
   ],
   "source": [
    "#17\n",
    "accuracy=accuracy_score(df_test['target'],prediction)\n",
    "print(\"Bernoulli Accuracy_score:\",accuracy)"
   ]
  },
  {
   "cell_type": "code",
   "execution_count": 28,
   "id": "99e13248-531a-465c-9f53-f2ac6cd33562",
   "metadata": {},
   "outputs": [
    {
     "name": "stdout",
     "output_type": "stream",
     "text": [
      "accuracy_tfidf: 0.9473684210526315\n",
      "confusion matrics:\n",
      " [[303   2  14]\n",
      " [  6 357  26]\n",
      " [  2   8 384]]\n",
      "classification report:\n",
      "               precision    recall  f1-score   support\n",
      "\n",
      "           0       0.97      0.95      0.96       319\n",
      "           1       0.97      0.92      0.94       389\n",
      "           2       0.91      0.97      0.94       394\n",
      "\n",
      "    accuracy                           0.95      1102\n",
      "   macro avg       0.95      0.95      0.95      1102\n",
      "weighted avg       0.95      0.95      0.95      1102\n",
      "\n"
     ]
    }
   ],
   "source": [
    "#18\n",
    "tfidf_vectorizer=TfidfVectorizer()\n",
    "X_train_tfidf=tfidf_vectorizer.fit_transform(df_train['text'])\n",
    "X_test_tfidf=tfidf_vectorizer.transform(df_test['text'])\n",
    "\n",
    "mlb=MultinomialNB()\n",
    "mlb.fit(X_train_tfidf,df_train['target'])\n",
    "prediction_tfidf=mlb.predict(X_test_tfidf)\n",
    "accuracy_tfidf=accuracy_score(df_test['target'],prediction_tfidf)\n",
    "print(\"accuracy_tfidf:\",accuracy_tfidf)\n",
    "print(\"confusion matrics:\\n\",confusion_matrix(df_test['target'],prediction_tfidf))\n",
    "print(\"classification report:\\n\",classification_report(df_test['target'],prediction_tfidf))"
   ]
  },
  {
   "cell_type": "code",
   "execution_count": 39,
   "id": "c3ada410-9b65-48e3-8d4b-ccf80711d2c2",
   "metadata": {},
   "outputs": [],
   "source": [
    "#19\n",
    "#done"
   ]
  },
  {
   "cell_type": "code",
   "execution_count": 29,
   "id": "c86a7852-9c79-414e-965c-04d7ce1e79e6",
   "metadata": {},
   "outputs": [
    {
     "name": "stdout",
     "output_type": "stream",
     "text": [
      "accuracy_stop: 0.852994555353902\n",
      "confusion matrics:\n",
      " [[270  47   2]\n",
      " [  5 373  11]\n",
      " [  7  90 297]]\n",
      "classification report:\n",
      "               precision    recall  f1-score   support\n",
      "\n",
      "           0       0.96      0.85      0.90       319\n",
      "           1       0.73      0.96      0.83       389\n",
      "           2       0.96      0.75      0.84       394\n",
      "\n",
      "    accuracy                           0.85      1102\n",
      "   macro avg       0.88      0.85      0.86      1102\n",
      "weighted avg       0.88      0.85      0.85      1102\n",
      "\n"
     ]
    }
   ],
   "source": [
    "#20\n",
    "vectorizer=CountVectorizer()\n",
    "X_train_counts_stop=vectorizer.fit_transform(df_train['text'])\n",
    "X_test_counts_stop=vectorizer.transform(df_test['text'])\n",
    "\n",
    "br_stop=BernoulliNB()\n",
    "br_stop.fit(X_train_counts_stop,df_train['target'])\n",
    "prediction_stop=br_stop.predict(X_test_counts_stop)\n",
    "accuracy_stop=accuracy_score(df_test['target'],prediction_stop)\n",
    "print(\"accuracy_stop:\",accuracy_stop)\n",
    "print(\"confusion matrics:\\n\",confusion_matrix(df_test['target'],prediction_stop))\n",
    "print(\"classification report:\\n\",classification_report(df_test['target'],prediction_stop))"
   ]
  },
  {
   "cell_type": "code",
   "execution_count": null,
   "id": "29d915ea-1117-49a1-85cf-c4e262ab48f9",
   "metadata": {},
   "outputs": [],
   "source": []
  }
 ],
 "metadata": {
  "kernelspec": {
   "display_name": "Python 3 (ipykernel)",
   "language": "python",
   "name": "python3"
  },
  "language_info": {
   "codemirror_mode": {
    "name": "ipython",
    "version": 3
   },
   "file_extension": ".py",
   "mimetype": "text/x-python",
   "name": "python",
   "nbconvert_exporter": "python",
   "pygments_lexer": "ipython3",
   "version": "3.12.4"
  }
 },
 "nbformat": 4,
 "nbformat_minor": 5
}
